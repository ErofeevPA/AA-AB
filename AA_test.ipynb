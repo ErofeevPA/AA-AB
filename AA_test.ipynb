{
 "cells": [
  {
   "cell_type": "code",
   "execution_count": 1,
   "id": "b15f449e-625b-49a5-81f2-78b88bbff85d",
   "metadata": {},
   "outputs": [],
   "source": [
    "import pandahouse\n",
    "import pandas as pd\n",
    "import seaborn as sns\n",
    "import matplotlib.pyplot as plt\n",
    "import numpy as np\n",
    "from scipy import stats"
   ]
  },
  {
   "cell_type": "code",
   "execution_count": 2,
   "id": "1bbe422a-6c21-48f1-a240-894348a466b6",
   "metadata": {},
   "outputs": [],
   "source": [
    "connection = {\n",
    "'host': 'https://clickhouse.lab.karpov.courses',\n",
    "'password': 'dpo_python_2020',\n",
    "'user': 'student',\n",
    "'database': 'simulator'\n",
    "}"
   ]
  },
  {
   "cell_type": "code",
   "execution_count": 3,
   "id": "1908f27b-a6fb-4857-8c3c-87cbce02db06",
   "metadata": {},
   "outputs": [],
   "source": [
    "q = \"\"\"\n",
    "SELECT exp_group,\n",
    "user_id,\n",
    "sum(action = 'like') as likes,\n",
    "sum(action = 'view') as views,\n",
    "likes/views as ctr\n",
    "FROM simulator_20221220.feed_actions\n",
    "WHERE toDate(time) between '2022-11-25' and '2022-12-01'\n",
    "and exp_group in (2, 3)\n",
    "GROUP BY exp_group, user_id\n",
    "\"\"\"\n",
    "df = pandahouse.read_clickhouse(q, connection=connection)"
   ]
  },
  {
   "cell_type": "code",
   "execution_count": 4,
   "id": "c42556a7-cb40-4645-9e18-5e96d885e70f",
   "metadata": {},
   "outputs": [],
   "source": [
    "sns.set(rc={'figure.figsize':(11.7,8.27)})"
   ]
  },
  {
   "cell_type": "code",
   "execution_count": 5,
   "id": "407ae618-322d-44c7-bf2f-6bfbbe62d5dc",
   "metadata": {},
   "outputs": [
    {
     "data": {
      "text/html": [
       "<div>\n",
       "<style scoped>\n",
       "    .dataframe tbody tr th:only-of-type {\n",
       "        vertical-align: middle;\n",
       "    }\n",
       "\n",
       "    .dataframe tbody tr th {\n",
       "        vertical-align: top;\n",
       "    }\n",
       "\n",
       "    .dataframe thead th {\n",
       "        text-align: right;\n",
       "    }\n",
       "</style>\n",
       "<table border=\"1\" class=\"dataframe\">\n",
       "  <thead>\n",
       "    <tr style=\"text-align: right;\">\n",
       "      <th></th>\n",
       "      <th>user_id</th>\n",
       "      <th>likes</th>\n",
       "      <th>views</th>\n",
       "      <th>ctr</th>\n",
       "    </tr>\n",
       "    <tr>\n",
       "      <th>exp_group</th>\n",
       "      <th></th>\n",
       "      <th></th>\n",
       "      <th></th>\n",
       "      <th></th>\n",
       "    </tr>\n",
       "  </thead>\n",
       "  <tbody>\n",
       "    <tr>\n",
       "      <th>2</th>\n",
       "      <td>8480</td>\n",
       "      <td>8480</td>\n",
       "      <td>8480</td>\n",
       "      <td>8480</td>\n",
       "    </tr>\n",
       "    <tr>\n",
       "      <th>3</th>\n",
       "      <td>8569</td>\n",
       "      <td>8569</td>\n",
       "      <td>8569</td>\n",
       "      <td>8569</td>\n",
       "    </tr>\n",
       "  </tbody>\n",
       "</table>\n",
       "</div>"
      ],
      "text/plain": [
       "           user_id  likes  views   ctr\n",
       "exp_group                             \n",
       "2             8480   8480   8480  8480\n",
       "3             8569   8569   8569  8569"
      ]
     },
     "execution_count": 5,
     "metadata": {},
     "output_type": "execute_result"
    }
   ],
   "source": [
    "df.groupby('exp_group').count()"
   ]
  },
  {
   "cell_type": "code",
   "execution_count": 6,
   "id": "0fe993ad-457e-4a05-9bbe-9e4d9d6a59af",
   "metadata": {},
   "outputs": [
    {
     "data": {
      "image/png": "[encoded data removed]",
      "text/plain": [
       "<Figure size 842.4x595.44 with 1 Axes>"
      ]
     },
     "metadata": {},
     "output_type": "display_data"
    }
   ],
   "source": [
    "groups = sns.histplot(data = df, \n",
    "              x='ctr', \n",
    "              hue='exp_group', \n",
    "              palette = ['r', 'b'],\n",
    "              alpha=0.5,\n",
    "              kde=False)"
   ]
  },
  {
   "cell_type": "markdown",
   "id": "1bd2daa0-7048-4925-9cbe-5dfe53204ba8",
   "metadata": {},
   "source": [
    "Проведем симуляцию 10000 AA-тестов."
   ]
  },
  {
   "cell_type": "code",
   "execution_count": 7,
   "id": "6f8748c8-68b7-4d7f-a0cd-329db3289f45",
   "metadata": {},
   "outputs": [],
   "source": [
    "p_array =[]\n",
    "for i in range(10000): \n",
    "    statistic, p_value = stats.ttest_ind(df[df.exp_group == 2].sample(500).ctr,\n",
    "                                        df[df.exp_group == 3].sample(500).ctr,\n",
    "                                        equal_var=False)\n",
    "    p_array.append(p_value)"
   ]
  },
  {
   "cell_type": "markdown",
   "id": "51154110-3180-4fa4-9331-499a6ebff4e2",
   "metadata": {},
   "source": [
    "Построим гистограмму распределения значений p-values проведенных t-тестов."
   ]
  },
  {
   "cell_type": "code",
   "execution_count": 8,
   "id": "3105dda5-2306-4cb0-9925-3842f0599fee",
   "metadata": {},
   "outputs": [
    {
     "data": {
      "text/plain": [
       "<AxesSubplot:ylabel='Count'>"
      ]
     },
     "execution_count": 8,
     "metadata": {},
     "output_type": "execute_result"
    },
    {
     "data": {
      "image/png": "[encoded data removed]",
      "text/plain": [
       "<Figure size 842.4x595.44 with 1 Axes>"
      ]
     },
     "metadata": {},
     "output_type": "display_data"
    }
   ],
   "source": [
    "sns.histplot(p_array, binwidth = 0.05)"
   ]
  },
  {
   "cell_type": "markdown",
   "id": "78428b9e-65e3-4831-81eb-d0b47a0e2e89",
   "metadata": {},
   "source": [
    "Посчитаем процент p-values меньше либо равных 0.05"
   ]
  },
  {
   "cell_type": "code",
   "execution_count": 9,
   "id": "c6112282-a4de-461e-9999-c8b069068a73",
   "metadata": {},
   "outputs": [],
   "source": [
    "pvalue_percent = 0\n",
    "for i in p_array:\n",
    "    if i <= 0.05:\n",
    "        pvalue_percent += 1\n",
    "pvalue_percent = pvalue_percent/10000"
   ]
  },
  {
   "cell_type": "code",
   "execution_count": 10,
   "id": "c47e2e0f-d426-4d19-bc46-b3459c545e79",
   "metadata": {},
   "outputs": [
    {
     "data": {
      "text/plain": [
       "4.51"
      ]
     },
     "execution_count": 10,
     "metadata": {},
     "output_type": "execute_result"
    }
   ],
   "source": [
    "pvalue_percent*100"
   ]
  },
  {
   "cell_type": "markdown",
   "id": "af5dbb3d-9362-4fc8-ad4c-a14614c8c444",
   "metadata": {},
   "source": [
    "Опираясь на гистограмму, можно предположить, что распределение p-value равномерное. Также мы выяснили, что доля p-value<=0.05 меньше 5%, что доказывает, что тест ошибается меньше, чем в 5% случаев. На основе этого мы можем сделать вывод, что наша система сплитования работет корректно."
   ]
  }
 ],
 "metadata": {
  "kernelspec": {
   "display_name": "Python 3 (ipykernel)",
   "language": "python",
   "name": "python3"
  },
  "language_info": {
   "codemirror_mode": {
    "name": "ipython",
    "version": 3
   },
   "file_extension": ".py",
   "mimetype": "text/x-python",
   "name": "python",
   "nbconvert_exporter": "python",
   "pygments_lexer": "ipython3",
   "version": "3.8.10"
  }
 },
 "nbformat": 4,
 "nbformat_minor": 5
}
