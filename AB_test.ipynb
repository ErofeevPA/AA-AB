{
 "cells": [
  {
   "cell_type": "code",
   "execution_count": 1,
   "id": "720061f1-08e6-4548-ac1b-d33c38fc0e73",
   "metadata": {},
   "outputs": [],
   "source": [
    "import pandahouse\n",
    "import pandas as pd\n",
    "import seaborn as sns\n",
    "import matplotlib.pyplot as plt\n",
    "import numpy as np\n",
    "from scipy import stats"
   ]
  },
  {
   "cell_type": "code",
   "execution_count": 2,
   "id": "b25cec21-94d4-44e0-9e89-f019244df7d4",
   "metadata": {},
   "outputs": [],
   "source": [
    "def get_smothed_ctr(user_likes, user_views, global_ctr, alpha):\n",
    "    smothed_ctr = (user_likes + alpha * global_ctr) / (user_views + alpha)\n",
    "    return smothed_ctr"
   ]
  },
  {
   "cell_type": "code",
   "execution_count": 3,
   "id": "338e6a27-3786-4259-be8b-c44740cb585b",
   "metadata": {},
   "outputs": [],
   "source": [
    "def bootstrap(likes1, views1, likes2, views2, n_bootstrap=2000):\n",
    "    poisson_bootstraps1 = stats.poisson(1).rvs(\n",
    "        (n_bootstrap, len(likes1))).astype(np.int64)\n",
    "    poisson_bootstraps2 = stats.poisson(1).rvs(\n",
    "            (n_bootstrap, len(likes2))).astype(np.int64)    \n",
    "    globalCTR1 = (poisson_bootstraps1*likes1).sum(axis=1)/(poisson_bootstraps1*views1).sum(axis=1)    \n",
    "    globalCTR2 = (poisson_bootstraps2*likes2).sum(axis=1)/(poisson_bootstraps2*views2).sum(axis=1)\n",
    "    return globalCTR1, globalCTR2"
   ]
  },
  {
   "cell_type": "code",
   "execution_count": 4,
   "id": "2bbcdcb0-77aa-4e90-b0f4-d9c62e5b5216",
   "metadata": {},
   "outputs": [],
   "source": [
    "connection = {\n",
    "'host': 'https://clickhouse.lab.karpov.courses',\n",
    "'password': 'dpo_python_2020',\n",
    "'user': 'student',\n",
    "'database': 'simulator'\n",
    "}"
   ]
  },
  {
   "cell_type": "code",
   "execution_count": 5,
   "id": "932fe2dc-8407-4805-a6a8-c4465bdcea99",
   "metadata": {},
   "outputs": [],
   "source": [
    "q = \"\"\"\n",
    "SELECT exp_group,\n",
    "user_id,\n",
    "sum(action = 'like') as likes,\n",
    "sum(action = 'view') as views,\n",
    "likes/views as ctr\n",
    "FROM simulator_20221220.feed_actions\n",
    "WHERE toDate(time) between '2022-12-02' and '2022-12-08'\n",
    "and exp_group in (1,2)\n",
    "GROUP BY exp_group, user_id\n",
    "\"\"\"\n",
    "df = pandahouse.read_clickhouse(q, connection=connection)"
   ]
  },
  {
   "cell_type": "markdown",
   "id": "c2b5224a-7c30-45f6-a56f-1e4a83675cdf",
   "metadata": {},
   "source": [
    "Для того чтобы определить какой метод анализа использовать, построим график распределения CTR в группах 1 и 2."
   ]
  },
  {
   "cell_type": "code",
   "execution_count": 6,
   "id": "4041d19d-87f2-4cf7-acb3-13f5c70addf4",
   "metadata": {
    "tags": []
   },
   "outputs": [
    {
     "data": {
      "image/png": "[encoded data removed]",
      "text/plain": [
       "<Figure size 432x288 with 1 Axes>"
      ]
     },
     "metadata": {
      "needs_background": "light"
     },
     "output_type": "display_data"
    }
   ],
   "source": [
    "groups = sns.histplot(data = df, \n",
    "              x='ctr', \n",
    "              hue='exp_group', \n",
    "              palette = ['b', 'r'],\n",
    "              alpha=0.5,\n",
    "              kde=False)"
   ]
  },
  {
   "cell_type": "markdown",
   "id": "b32aa833-1abe-48e6-85c4-bcacb0d94d43",
   "metadata": {},
   "source": [
    "Так как одно из распределений бимодально, можно отбросить t-тест и тест Манна-Уитни. На мой взгляд, при использовани их версий на сглаженном CTR тоже получатся не самые надежные результаты. Поэтому из известных нам методов анализа можно выбрать Пуассоновский бутстреп или t-тест и тест Манна-Уитни поверх бакетного преобразования. Начнем с бутстрепа."
   ]
  },
  {
   "cell_type": "code",
   "execution_count": 7,
   "id": "382a978b-ac1d-4b68-8b36-87da273d9995",
   "metadata": {},
   "outputs": [],
   "source": [
    "likes1 = df[df.exp_group == 1].likes.to_numpy()\n",
    "views1 = df[df.exp_group == 1].views.to_numpy()\n",
    "likes2 = df[df.exp_group == 2].likes.to_numpy()\n",
    "views2 = df[df.exp_group == 2].views.to_numpy()"
   ]
  },
  {
   "cell_type": "code",
   "execution_count": 8,
   "id": "4678df3c-7ef2-4611-a42e-0709322f32a8",
   "metadata": {},
   "outputs": [],
   "source": [
    "ctr1, ctr2 = bootstrap(likes1, views1, likes2, views2)"
   ]
  },
  {
   "cell_type": "markdown",
   "id": "7c20ff33-cb03-4609-b39d-8ff24740095b",
   "metadata": {},
   "source": [
    "Построим график распределения глобальных CTR."
   ]
  },
  {
   "cell_type": "code",
   "execution_count": 9,
   "id": "ddcd1cbb-1f60-4b01-b0c9-15c27658af5f",
   "metadata": {},
   "outputs": [
    {
     "data": {
      "text/plain": [
       "<AxesSubplot:ylabel='Count'>"
      ]
     },
     "execution_count": 9,
     "metadata": {},
     "output_type": "execute_result"
    },
    {
     "data": {
      "image/png": "[encoded data removed]",
      "text/plain": [
       "<Figure size 432x288 with 1 Axes>"
      ]
     },
     "metadata": {
      "needs_background": "light"
     },
     "output_type": "display_data"
    }
   ],
   "source": [
    "sns.histplot(ctr1)\n",
    "sns.histplot(ctr2, color = 'r')"
   ]
  },
  {
   "cell_type": "markdown",
   "id": "ccf00ae9-de33-407a-afa8-3079c84c2fdd",
   "metadata": {},
   "source": [
    "Можно заметить, что  данные распределения никак не пересекаются, что обозначает, что различия точно будут статистически значимыми. Также построим график разницы между глобальными CTR."
   ]
  },
  {
   "cell_type": "code",
   "execution_count": 10,
   "id": "e2b132c3-de3d-4cee-b7e4-77a3c1a66b30",
   "metadata": {},
   "outputs": [
    {
     "data": {
      "text/plain": [
       "<AxesSubplot:ylabel='Count'>"
      ]
     },
     "execution_count": 10,
     "metadata": {},
     "output_type": "execute_result"
    },
    {
     "data": {
      "image/png": "[encoded data removed]",
      "text/plain": [
       "<Figure size 432x288 with 1 Axes>"
      ]
     },
     "metadata": {
      "needs_background": "light"
     },
     "output_type": "display_data"
    }
   ],
   "source": [
    "sns.histplot(ctr2 - ctr1)"
   ]
  },
  {
   "cell_type": "markdown",
   "id": "d6ef17d1-cd20-4782-9651-e898bf99149a",
   "metadata": {},
   "source": [
    "Можно сделать вывод, что новый алгоритм статистически значимо ухудшает значения CTR."
   ]
  },
  {
   "cell_type": "markdown",
   "id": "45fefbf6-fa5f-4539-ad67-23f5d11b76e7",
   "metadata": {},
   "source": [
    "Проведем анализ с помощью t-теста и теста Манна-Уитни поверх бакетного преобразования."
   ]
  },
  {
   "cell_type": "code",
   "execution_count": 11,
   "id": "307aa25e-fe52-43a9-8483-690a9d039ee2",
   "metadata": {},
   "outputs": [],
   "source": [
    "w = \"\"\"SELECT exp_group, bucket,\n",
    "    sum(likes)/sum(views) as bucket_ctr,\n",
    "    quantileExact(0.9)(ctr) as ctr9\n",
    "FROM (SELECT exp_group, \n",
    "        xxHash64(user_id)%50 as bucket,\n",
    "        user_id,\n",
    "        sum(action = 'like') as likes,\n",
    "        sum(action = 'view') as views,\n",
    "        likes/views as ctr\n",
    "    FROM simulator_20221220.feed_actions \n",
    "    WHERE toDate(time) between '2022-12-02' and '2022-12-08'\n",
    "        and exp_group in (1,2)\n",
    "    GROUP BY exp_group, bucket, user_id)\n",
    "GROUP BY exp_group, bucket\n",
    "\"\"\"\n",
    "df_bucket = pandahouse.read_clickhouse(w, connection=connection)"
   ]
  },
  {
   "cell_type": "code",
   "execution_count": 12,
   "id": "3d43ae67-5a13-4861-af54-2c425ada0d64",
   "metadata": {},
   "outputs": [
    {
     "data": {
      "text/plain": [
       "MannwhitneyuResult(statistic=1995.0, pvalue=2.859963936492646e-07)"
      ]
     },
     "execution_count": 12,
     "metadata": {},
     "output_type": "execute_result"
    }
   ],
   "source": [
    "stats.mannwhitneyu(df_bucket[df_bucket.exp_group == 1].bucket_ctr, \n",
    "                   df_bucket[df_bucket.exp_group == 2].bucket_ctr, \n",
    "                   alternative = 'two-sided')"
   ]
  },
  {
   "cell_type": "code",
   "execution_count": 13,
   "id": "05c78a08-9b80-4af3-a925-3c3e12e59e4d",
   "metadata": {},
   "outputs": [
    {
     "data": {
      "text/plain": [
       "Ttest_indResult(statistic=5.668234732053979, pvalue=3.4455951649945907e-07)"
      ]
     },
     "execution_count": 13,
     "metadata": {},
     "output_type": "execute_result"
    }
   ],
   "source": [
    "stats.ttest_ind(df_bucket[df_bucket.exp_group == 1].bucket_ctr, \n",
    "                   df_bucket[df_bucket.exp_group == 2].bucket_ctr, \n",
    "                   equal_var = False)"
   ]
  },
  {
   "cell_type": "code",
   "execution_count": 14,
   "id": "97f9b829-26f7-4693-a06b-42c801d24a7c",
   "metadata": {},
   "outputs": [
    {
     "data": {
      "text/plain": [
       "<AxesSubplot:xlabel='bucket_ctr', ylabel='Count'>"
      ]
     },
     "execution_count": 14,
     "metadata": {},
     "output_type": "execute_result"
    },
    {
     "data": {
      "image/png": "[encoded data removed]",
      "text/plain": [
       "<Figure size 432x288 with 1 Axes>"
      ]
     },
     "metadata": {
      "needs_background": "light"
     },
     "output_type": "display_data"
    }
   ],
   "source": [
    "sns.histplot(data = df_bucket, \n",
    "              x='bucket_ctr', \n",
    "              hue='exp_group', \n",
    "              palette = ['r', 'b'],\n",
    "              alpha=0.5,\n",
    "              kde=False)"
   ]
  },
  {
   "cell_type": "markdown",
   "id": "4735cf12-220c-43ce-a409-b51d2c4678f8",
   "metadata": {},
   "source": [
    "p-values и t-теста, и теста Манна-Уитни поверх бакетного преобразования оказались сильно меньше 0.05, что опять же говорит о статистически значимых различиях в CTR между группами 1 и 2. Учитывая график, можно сказать, что новый алгоритм работает хуже старого."
   ]
  },
  {
   "cell_type": "markdown",
   "id": "b9a6e505-5cc1-403d-b22b-c96029e0d1b7",
   "metadata": {},
   "source": [
    "Попробуем провести другие тесты на изначальной выборке."
   ]
  },
  {
   "cell_type": "code",
   "execution_count": 15,
   "id": "52a1f1ca-def4-4f72-aa8f-c04496f7f32c",
   "metadata": {
    "tags": []
   },
   "outputs": [
    {
     "data": {
      "text/plain": [
       "Ttest_indResult(statistic=0.7094392041270485, pvalue=0.4780623130874935)"
      ]
     },
     "execution_count": 15,
     "metadata": {},
     "output_type": "execute_result"
    }
   ],
   "source": [
    "# t-тест\n",
    "stats.ttest_ind(df[df.exp_group == 1].ctr,\n",
    "                df[df.exp_group == 2].ctr,\n",
    "                equal_var=False)"
   ]
  },
  {
   "cell_type": "markdown",
   "id": "b26b1da1-13bc-4c5c-b05f-12cec446482c",
   "metadata": {},
   "source": [
    "t-тест не показывет значимых различий, которые обнаружились ранее, из-за особенностей распределений."
   ]
  },
  {
   "cell_type": "code",
   "execution_count": 16,
   "id": "419a21f8-b81b-4041-a479-237e4352ca22",
   "metadata": {
    "tags": []
   },
   "outputs": [
    {
     "data": {
      "text/plain": [
       "MannwhitneyuResult(statistic=56601260.5, pvalue=6.0376484617779035e-56)"
      ]
     },
     "execution_count": 16,
     "metadata": {},
     "output_type": "execute_result"
    }
   ],
   "source": [
    "# тест Манна-Уитни\n",
    "stats.mannwhitneyu(df[df.exp_group == 1].ctr, \n",
    "                   df[df.exp_group == 2].ctr,\n",
    "                   alternative = 'two-sided')"
   ]
  },
  {
   "cell_type": "markdown",
   "id": "6abc7dca-d4b6-4121-8f54-c44b72d39cd7",
   "metadata": {},
   "source": [
    "Тест Манна-Уитни в силу своей нулевой гипотезы, в любом случае, на распределениях такого типа показал бы значимые различия."
   ]
  },
  {
   "cell_type": "code",
   "execution_count": 17,
   "id": "db4e3373-556c-4f66-9051-3198789f8ac7",
   "metadata": {},
   "outputs": [],
   "source": [
    "global_ctr_1 = df[df.exp_group == 1].likes.sum()/df[df.exp_group == 1].views.sum()\n",
    "global_ctr_2 = df[df.exp_group == 2].likes.sum()/df[df.exp_group == 2].views.sum()"
   ]
  },
  {
   "cell_type": "code",
   "execution_count": 18,
   "id": "55376c79-0b83-4227-a9db-7c2dee0c3118",
   "metadata": {
    "tags": []
   },
   "outputs": [],
   "source": [
    "group1 = df[df.exp_group == 1].copy()"
   ]
  },
  {
   "cell_type": "code",
   "execution_count": 19,
   "id": "d16404a6-c5f7-4a14-8cb0-ceb1ee5a497e",
   "metadata": {},
   "outputs": [],
   "source": [
    "group1['smothed_ctr'] = df.apply(\n",
    "    lambda x: get_smothed_ctr(x['likes'], x['views'], global_ctr_1, 5), axis=1)"
   ]
  },
  {
   "cell_type": "code",
   "execution_count": 20,
   "id": "78b5010d-e68e-4500-a348-0efc02f135d6",
   "metadata": {},
   "outputs": [
    {
     "data": {
      "text/plain": [
       "<AxesSubplot:xlabel='smothed_ctr', ylabel='Count'>"
      ]
     },
     "execution_count": 20,
     "metadata": {},
     "output_type": "execute_result"
    },
    {
     "data": {
      "image/png": "[encoded data removed]",
      "text/plain": [
       "<Figure size 432x288 with 1 Axes>"
      ]
     },
     "metadata": {
      "needs_background": "light"
     },
     "output_type": "display_data"
    }
   ],
   "source": [
    "sns.histplot(group1.smothed_ctr, \n",
    "             kde = False)"
   ]
  },
  {
   "cell_type": "code",
   "execution_count": 21,
   "id": "ba327b79-2199-4941-8d83-2c1b8aaed78c",
   "metadata": {
    "tags": []
   },
   "outputs": [],
   "source": [
    "group2 = df[df.exp_group == 2].copy()"
   ]
  },
  {
   "cell_type": "code",
   "execution_count": 22,
   "id": "a7029d1f-623a-4b47-9232-3aa578b43b58",
   "metadata": {},
   "outputs": [],
   "source": [
    "group2['smothed_ctr'] = df.apply(\n",
    "    lambda x: get_smothed_ctr(x['likes'], x['views'], global_ctr_1, 5), axis=1)"
   ]
  },
  {
   "cell_type": "code",
   "execution_count": 23,
   "id": "443a9ae1-f177-4a84-ae9b-0c3d18f41610",
   "metadata": {},
   "outputs": [
    {
     "data": {
      "text/plain": [
       "<AxesSubplot:xlabel='smothed_ctr', ylabel='Count'>"
      ]
     },
     "execution_count": 23,
     "metadata": {},
     "output_type": "execute_result"
    },
    {
     "data": {
      "image/png": "[encoded data removed]",
      "text/plain": [
       "<Figure size 432x288 with 1 Axes>"
      ]
     },
     "metadata": {
      "needs_background": "light"
     },
     "output_type": "display_data"
    }
   ],
   "source": [
    "sns.histplot(group2.smothed_ctr, \n",
    "             kde = False)"
   ]
  },
  {
   "cell_type": "code",
   "execution_count": 24,
   "id": "6270f584-9d77-4f58-a3ad-51fa2e106a0a",
   "metadata": {},
   "outputs": [
    {
     "data": {
      "text/plain": [
       "Ttest_indResult(statistic=1.5383624332636343, pvalue=0.12398006885092346)"
      ]
     },
     "execution_count": 24,
     "metadata": {},
     "output_type": "execute_result"
    }
   ],
   "source": [
    "stats.ttest_ind(group1.smothed_ctr,\n",
    "                group2.smothed_ctr,\n",
    "                equal_var=False)"
   ]
  },
  {
   "cell_type": "markdown",
   "id": "19738bcd-006b-40b4-b044-0dac734e116b",
   "metadata": {},
   "source": [
    "t-тест на сглаженном CTR как и предполагалось, показал хоть и меньшее p-value, однако, оно все еще больше 0.05. Так как распределение сглаженного CTR, все также является бимодальным. "
   ]
  },
  {
   "cell_type": "markdown",
   "id": "829dd5af-fa54-4fa5-b8c1-6ff1a8df1fd5",
   "metadata": {},
   "source": [
    "Можно предположить, что бимодальность распределения в группе с новым алгоритмом появилась в следствии разделения пользователей на 2 группы. Например, есть пользователи которых устраивает однообразный контент и пользователи которым хотелось бы разнообразия. Возможно, алгоритм некорретно работает на разных платформах."
   ]
  },
  {
   "cell_type": "markdown",
   "id": "0721e6b9-5818-422c-bccd-ec3d84ff96b2",
   "metadata": {},
   "source": [
    "Основываясь на результатах тестов, а также на графиках, можно порекомендовать пока не выкатывать новый алгоритм. Так как он значимо ухудшает показатель CTR в среднем на пользователей. Однако бимодальность распределения говорит о том, что нужно проанализировать результат разделения пользователей и, таким образом, улучшить алгоритм."
   ]
  }
 ],
 "metadata": {
  "kernelspec": {
   "display_name": "Python 3 (ipykernel)",
   "language": "python",
   "name": "python3"
  },
  "language_info": {
   "codemirror_mode": {
    "name": "ipython",
    "version": 3
   },
   "file_extension": ".py",
   "mimetype": "text/x-python",
   "name": "python",
   "nbconvert_exporter": "python",
   "pygments_lexer": "ipython3",
   "version": "3.8.10"
  }
 },
 "nbformat": 4,
 "nbformat_minor": 5
}
