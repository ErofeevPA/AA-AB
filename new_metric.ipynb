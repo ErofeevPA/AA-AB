{
 "cells": [
  {
   "cell_type": "code",
   "execution_count": 1,
   "id": "112f4dce-deff-4b7c-bb0f-0ed1a98307e5",
   "metadata": {},
   "outputs": [],
   "source": [
    "import pandahouse\n",
    "import pandas as pd\n",
    "import seaborn as sns\n",
    "import matplotlib.pyplot as plt\n",
    "import numpy as np\n",
    "from scipy import stats"
   ]
  },
  {
   "cell_type": "code",
   "execution_count": 2,
   "id": "6501bf20-d1cb-40d2-bbfc-5f3e60c10956",
   "metadata": {},
   "outputs": [],
   "source": [
    "connection = {\n",
    "'host': 'https://clickhouse.lab.karpov.courses',\n",
    "'password': 'dpo_python_2020',\n",
    "'user': 'student',\n",
    "'database': 'simulator'\n",
    "}"
   ]
  },
  {
   "cell_type": "code",
   "execution_count": 3,
   "id": "559a39bf-ca43-47c6-bece-70549bcda68d",
   "metadata": {},
   "outputs": [],
   "source": [
    "q = \"\"\"\n",
    "SELECT exp_group,\n",
    "user_id,\n",
    "sum(action = 'like') as likes,\n",
    "sum(action = 'view') as views,\n",
    "likes/views as ctr\n",
    "FROM simulator_20221220.feed_actions\n",
    "WHERE toDate(time) between '2022-12-02' and '2022-12-08'\n",
    "GROUP BY exp_group, user_id\n",
    "\"\"\"\n",
    "df = pandahouse.read_clickhouse(q, connection=connection)"
   ]
  },
  {
   "cell_type": "markdown",
   "id": "9feaa67f-b88f-4ff4-89f6-64fcb30a9be4",
   "metadata": {},
   "source": [
    "Найдем глобальный CTR для двух контрольных групп."
   ]
  },
  {
   "cell_type": "code",
   "execution_count": 4,
   "id": "be7b5a24-cc9b-4b52-83ed-37dfa95d2552",
   "metadata": {},
   "outputs": [],
   "source": [
    "ctr_control_1 = df[df.exp_group == 1].likes.sum() / df[df.exp_group == 1].views.sum()\n",
    "ctr_control_0 = df[df.exp_group == 0].likes.sum() / df[df.exp_group == 0].views.sum()"
   ]
  },
  {
   "cell_type": "code",
   "execution_count": 5,
   "id": "12774cdc-5737-44bd-823c-eda9322c6ca0",
   "metadata": {},
   "outputs": [
    {
     "data": {
      "text/plain": [
       "0.20802680490126244"
      ]
     },
     "execution_count": 5,
     "metadata": {},
     "output_type": "execute_result"
    }
   ],
   "source": [
    "ctr_control_1"
   ]
  },
  {
   "cell_type": "code",
   "execution_count": 6,
   "id": "60c269a8-11a4-4a1f-96fc-f2a42d8c927a",
   "metadata": {},
   "outputs": [
    {
     "data": {
      "text/plain": [
       "0.20823612262916305"
      ]
     },
     "execution_count": 6,
     "metadata": {},
     "output_type": "execute_result"
    }
   ],
   "source": [
    "ctr_control_0"
   ]
  },
  {
   "cell_type": "markdown",
   "id": "42da7475-cbb5-4b32-9b86-3cac30a57c38",
   "metadata": {},
   "source": [
    "Посчитаем поюзерные метрики в каждой группе."
   ]
  },
  {
   "cell_type": "code",
   "execution_count": 7,
   "id": "4478d6a3-56ef-4e6b-b892-5143a9172e41",
   "metadata": {},
   "outputs": [],
   "source": [
    "linearized_likes_1 = df[df.exp_group == 1].likes - ctr_control_1 * df[df.exp_group == 1].views\n",
    "linearized_likes_2 = df[df.exp_group == 2].likes - ctr_control_1 * df[df.exp_group == 2].views\n",
    "linearized_likes_3 = df[df.exp_group == 3].likes - ctr_control_0 * df[df.exp_group == 3].views\n",
    "linearized_likes_0 = df[df.exp_group == 0].likes - ctr_control_0 * df[df.exp_group == 0].views"
   ]
  },
  {
   "cell_type": "markdown",
   "id": "4096b981-15ec-4554-8f5d-e720996ef06d",
   "metadata": {},
   "source": [
    "Посмотрим гистограмму распределения поюзерного CTR в исходных группах 1 и 2"
   ]
  },
  {
   "cell_type": "code",
   "execution_count": 8,
   "id": "32b53a46-6bda-4069-9590-e411eff65ab0",
   "metadata": {},
   "outputs": [
    {
     "data": {
      "text/plain": [
       "<AxesSubplot:xlabel='ctr', ylabel='Count'>"
      ]
     },
     "execution_count": 8,
     "metadata": {},
     "output_type": "execute_result"
    },
    {
     "data": {
      "image/png": "[encoded data removed]",
      "text/plain": [
       "<Figure size 432x288 with 1 Axes>"
      ]
     },
     "metadata": {
      "needs_background": "light"
     },
     "output_type": "display_data"
    }
   ],
   "source": [
    "sns.histplot(df[df.exp_group == 1].ctr, binwidth = 0.01)\n",
    "sns.histplot(df[df.exp_group == 2].ctr, color = 'r', binwidth = 0.01)"
   ]
  },
  {
   "cell_type": "markdown",
   "id": "a850bff1-401f-4e92-a4f4-4d13c0cb2a33",
   "metadata": {},
   "source": [
    "На графике видна сильная бимодальность во 2-ой группе. Посмотрим на новую метрику, возможна она изменится."
   ]
  },
  {
   "cell_type": "markdown",
   "id": "6e94a540-5485-4db4-83c0-113a7aa05e7e",
   "metadata": {},
   "source": [
    "Построим гистограмму распределения новой метрики для 1 и 2 групп."
   ]
  },
  {
   "cell_type": "code",
   "execution_count": 9,
   "id": "454dcbe7-d7de-4747-9e8b-ebd41c7191e0",
   "metadata": {},
   "outputs": [
    {
     "data": {
      "text/plain": [
       "<AxesSubplot:ylabel='Count'>"
      ]
     },
     "execution_count": 9,
     "metadata": {},
     "output_type": "execute_result"
    },
    {
     "data": {
      "image/png": "[encoded data removed]",
      "text/plain": [
       "<Figure size 432x288 with 1 Axes>"
      ]
     },
     "metadata": {
      "needs_background": "light"
     },
     "output_type": "display_data"
    }
   ],
   "source": [
    "sns.histplot(linearized_likes_1)\n",
    "sns.histplot(linearized_likes_2, color = 'r')"
   ]
  },
  {
   "cell_type": "markdown",
   "id": "d360357b-381b-4be7-98b9-5609a9fcc98f",
   "metadata": {},
   "source": [
    "В новой метрике бимодальность во 2-ой группе ощутимо меньше."
   ]
  },
  {
   "cell_type": "markdown",
   "id": "24eb5ce7-6b37-4a12-8f9e-1752e89fc0c3",
   "metadata": {},
   "source": [
    "Проведем t-тест между группами 1 и 2 по метрике линеаризованных лайков."
   ]
  },
  {
   "cell_type": "code",
   "execution_count": 10,
   "id": "5aa97c2c-f275-4c99-aa7b-7ad28f1d260d",
   "metadata": {},
   "outputs": [
    {
     "data": {
      "text/plain": [
       "Ttest_indResult(statistic=6.122579994775974, pvalue=9.439432187037644e-10)"
      ]
     },
     "execution_count": 10,
     "metadata": {},
     "output_type": "execute_result"
    }
   ],
   "source": [
    "stats.ttest_ind(linearized_likes_1,\n",
    "                linearized_likes_2,\n",
    "                equal_var=False)"
   ]
  },
  {
   "cell_type": "markdown",
   "id": "9f7cc646-1401-4333-98f9-7b4866fe68b7",
   "metadata": {},
   "source": [
    "Проведем t-тест между группами 1 и 2 по обычному CTR."
   ]
  },
  {
   "cell_type": "code",
   "execution_count": 11,
   "id": "88ed53ad-2a9f-4a16-8cb1-e338b7e831e8",
   "metadata": {},
   "outputs": [
    {
     "data": {
      "text/plain": [
       "Ttest_indResult(statistic=0.7094392041270485, pvalue=0.4780623130874935)"
      ]
     },
     "execution_count": 11,
     "metadata": {},
     "output_type": "execute_result"
    }
   ],
   "source": [
    "stats.ttest_ind(df[df.exp_group == 1].ctr,\n",
    "                df[df.exp_group == 2].ctr,\n",
    "                equal_var=False)"
   ]
  },
  {
   "cell_type": "markdown",
   "id": "50516463-df94-48ed-8cc4-9fe6e84ce190",
   "metadata": {},
   "source": [
    "p-value при использовании нового метода (pvalue=9.439432187037644e-10) стало сильно меньше по сравнению с обычным сравнением CTR (pvalue=0.4780623130874935). Различия между группами 1 и 2 по новой метрике, в отличии от поюзерного CTR по t-тесту, статистически значимы."
   ]
  },
  {
   "cell_type": "markdown",
   "id": "9c4b0083-91fa-451c-946f-67a117438f45",
   "metadata": {},
   "source": [
    "Посмотрим гистограмму распределения поюзерного CTR в исходных группах 0 и 3"
   ]
  },
  {
   "cell_type": "code",
   "execution_count": 12,
   "id": "c321bd78-5225-4155-9c41-51f7768aedda",
   "metadata": {},
   "outputs": [
    {
     "data": {
      "text/plain": [
       "<AxesSubplot:xlabel='ctr', ylabel='Count'>"
      ]
     },
     "execution_count": 12,
     "metadata": {},
     "output_type": "execute_result"
    },
    {
     "data": {
      "image/png": "[encoded data removed]",
      "text/plain": [
       "<Figure size 432x288 with 1 Axes>"
      ]
     },
     "metadata": {
      "needs_background": "light"
     },
     "output_type": "display_data"
    }
   ],
   "source": [
    "sns.histplot(df[df.exp_group == 0].ctr, binwidth = 0.01)\n",
    "sns.histplot(df[df.exp_group == 3].ctr, color = 'r', binwidth = 0.01)"
   ]
  },
  {
   "cell_type": "markdown",
   "id": "6a64254b-496b-40c5-9271-76195d12c92d",
   "metadata": {},
   "source": [
    "В данном случае бимодальность не наблюдается. Возможно p-value между этой и новой метрикой сильно различаться не будут."
   ]
  },
  {
   "cell_type": "markdown",
   "id": "209292dd-e379-4e34-8e0b-01b982827520",
   "metadata": {},
   "source": [
    "Построим гистограмму распределения новой метрики для 0 и 3 групп."
   ]
  },
  {
   "cell_type": "code",
   "execution_count": 13,
   "id": "c41a20de-b998-4976-927e-51c660212c2b",
   "metadata": {},
   "outputs": [
    {
     "data": {
      "text/plain": [
       "<AxesSubplot:ylabel='Count'>"
      ]
     },
     "execution_count": 13,
     "metadata": {},
     "output_type": "execute_result"
    },
    {
     "data": {
      "image/png": "[encoded data removed]",
      "text/plain": [
       "<Figure size 432x288 with 1 Axes>"
      ]
     },
     "metadata": {
      "needs_background": "light"
     },
     "output_type": "display_data"
    }
   ],
   "source": [
    "sns.histplot(linearized_likes_0)\n",
    "sns.histplot(linearized_likes_3, color = 'r')"
   ]
  },
  {
   "cell_type": "markdown",
   "id": "9e5da630-ee2b-4324-85d3-720e1f85955f",
   "metadata": {},
   "source": [
    "Проведем t-тест между группами 0 и 3 по метрике линеаризованных лайков."
   ]
  },
  {
   "cell_type": "code",
   "execution_count": 14,
   "id": "02ed4430-49f5-49bf-a86d-57c0e40a07a1",
   "metadata": {},
   "outputs": [
    {
     "data": {
      "text/plain": [
       "Ttest_indResult(statistic=-15.214995460903827, pvalue=5.4914249479690016e-52)"
      ]
     },
     "execution_count": 14,
     "metadata": {},
     "output_type": "execute_result"
    }
   ],
   "source": [
    "stats.ttest_ind(linearized_likes_0,\n",
    "                linearized_likes_3,\n",
    "                equal_var=False)"
   ]
  },
  {
   "cell_type": "markdown",
   "id": "408f03e7-7ce7-472b-95dc-49265334ce1a",
   "metadata": {},
   "source": [
    "Проведем t-тест между группами 0 и 3 по обычному CTR."
   ]
  },
  {
   "cell_type": "code",
   "execution_count": 15,
   "id": "b6e81292-6f25-4e62-b248-42230dab6d2c",
   "metadata": {},
   "outputs": [
    {
     "data": {
      "text/plain": [
       "Ttest_indResult(statistic=-13.896870721904069, pvalue=1.055849414662529e-43)"
      ]
     },
     "execution_count": 15,
     "metadata": {},
     "output_type": "execute_result"
    }
   ],
   "source": [
    "stats.ttest_ind(df[df.exp_group == 0].ctr,\n",
    "                df[df.exp_group == 3].ctr,\n",
    "                equal_var=False)"
   ]
  },
  {
   "cell_type": "markdown",
   "id": "193da9f0-dd56-4d95-aad4-f94d9f7d660d",
   "metadata": {},
   "source": [
    "p-value при использовании нового метода (pvalue=5.4914249479690016e-52) стало меньше по сравнению с поюзерным сравнением CTR ( pvalue=1.055849414662529e-43), однако оба показателя сильно меньше 0.05. Различия между группами 0 и 3 по обоим показателям статистически значимы."
   ]
  }
 ],
 "metadata": {
  "kernelspec": {
   "display_name": "Python 3 (ipykernel)",
   "language": "python",
   "name": "python3"
  },
  "language_info": {
   "codemirror_mode": {
    "name": "ipython",
    "version": 3
   },
   "file_extension": ".py",
   "mimetype": "text/x-python",
   "name": "python",
   "nbconvert_exporter": "python",
   "pygments_lexer": "ipython3",
   "version": "3.8.10"
  }
 },
 "nbformat": 4,
 "nbformat_minor": 5
}
